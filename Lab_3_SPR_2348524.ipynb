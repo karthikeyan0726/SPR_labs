{
  "nbformat": 4,
  "nbformat_minor": 0,
  "metadata": {
    "colab": {
      "provenance": []
    },
    "kernelspec": {
      "name": "python3",
      "display_name": "Python 3"
    },
    "language_info": {
      "name": "python"
    }
  },
  "cells": [
    {
      "cell_type": "code",
      "execution_count": null,
      "metadata": {
        "id": "W0yXcM0ox-fA"
      },
      "outputs": [],
      "source": []
    },
    {
      "cell_type": "markdown",
      "source": [
        "# Speech-to-text conversion"
      ],
      "metadata": {
        "id": "LpN4Jx2AGrAy"
      }
    },
    {
      "cell_type": "code",
      "execution_count": null,
      "metadata": {
        "colab": {
          "base_uri": "https://localhost:8080/"
        },
        "id": "sg8dtrcz-bUo",
        "outputId": "f174f38d-ab57-4b38-f39f-f3ad3d394fa6"
      },
      "outputs": [
        {
          "output_type": "stream",
          "name": "stdout",
          "text": [
            "Collecting SpeechRecognition\n",
            "  Downloading SpeechRecognition-3.11.0-py2.py3-none-any.whl.metadata (28 kB)\n",
            "Collecting pydub\n",
            "  Downloading pydub-0.25.1-py2.py3-none-any.whl.metadata (1.4 kB)\n",
            "Requirement already satisfied: requests>=2.26.0 in /usr/local/lib/python3.10/dist-packages (from SpeechRecognition) (2.32.3)\n",
            "Requirement already satisfied: typing-extensions in /usr/local/lib/python3.10/dist-packages (from SpeechRecognition) (4.12.2)\n",
            "Requirement already satisfied: charset-normalizer<4,>=2 in /usr/local/lib/python3.10/dist-packages (from requests>=2.26.0->SpeechRecognition) (3.4.0)\n",
            "Requirement already satisfied: idna<4,>=2.5 in /usr/local/lib/python3.10/dist-packages (from requests>=2.26.0->SpeechRecognition) (3.10)\n",
            "Requirement already satisfied: urllib3<3,>=1.21.1 in /usr/local/lib/python3.10/dist-packages (from requests>=2.26.0->SpeechRecognition) (2.2.3)\n",
            "Requirement already satisfied: certifi>=2017.4.17 in /usr/local/lib/python3.10/dist-packages (from requests>=2.26.0->SpeechRecognition) (2024.8.30)\n",
            "Downloading SpeechRecognition-3.11.0-py2.py3-none-any.whl (32.8 MB)\n",
            "\u001b[2K   \u001b[90m━━━━━━━━━━━━━━━━━━━━━━━━━━━━━━━━━━━━━━━━\u001b[0m \u001b[32m32.8/32.8 MB\u001b[0m \u001b[31m32.1 MB/s\u001b[0m eta \u001b[36m0:00:00\u001b[0m\n",
            "\u001b[?25hDownloading pydub-0.25.1-py2.py3-none-any.whl (32 kB)\n",
            "Installing collected packages: pydub, SpeechRecognition\n",
            "Successfully installed SpeechRecognition-3.11.0 pydub-0.25.1\n"
          ]
        }
      ],
      "source": [
        "pip install SpeechRecognition pydub"
      ]
    },
    {
      "cell_type": "code",
      "source": [
        "import speech_recognition as sr\n",
        "\n",
        "# Path to your .wav file\n",
        "wav_file = \"/content/16-122828-0002.wav\"\n",
        "\n",
        "def transcribe_wav_file(wav_file):\n",
        "    # Initialize the recognizer\n",
        "    recognizer = sr.Recognizer()\n",
        "\n",
        "    try:\n",
        "        print(\"Loading audio file...\")\n",
        "        with sr.AudioFile(wav_file) as source:\n",
        "            # Provide feedback to the user\n",
        "            print(\"Adjusting for ambient noise...\")\n",
        "            recognizer.adjust_for_ambient_noise(source, duration=1)\n",
        "            print(\"Listening to the audio file...\")\n",
        "            audio_data = recognizer.record(source)  # Read the entire audio file\n",
        "\n",
        "        print(\"Converting speech to text...\")\n",
        "        # Recognize speech using Google Web Speech API\n",
        "        text = recognizer.recognize_google(audio_data)\n",
        "        print(\"\\nTranscription:\")\n",
        "        print(text)\n",
        "        print(\"\\nSpeech successfully converted to text!\")\n",
        "\n",
        "    except sr.UnknownValueError:\n",
        "        print(\"\\nError: Speech Recognition could not understand the audio.\")\n",
        "        print(\"Please ensure the audio is clear and try again.\")\n",
        "    except sr.RequestError as e:\n",
        "        print(f\"\\nError: Could not request results from Google Speech Recognition service; {e}\")\n",
        "        print(\"Please check your internet connection and try again.\")\n",
        "    except FileNotFoundError:\n",
        "        print(f\"\\nError: The file {wav_file} does not exist. Please check the path and try again.\")\n",
        "    except Exception as e:\n",
        "        print(f\"\\nAn unexpected error occurred: {e}\")\n",
        "        print(\"Please try again or check the audio file format.\")\n",
        "\n",
        "if __name__ == \"__main__\":\n",
        "    # Use the predefined wav_file variable\n",
        "    transcribe_wav_file(wav_file)\n"
      ],
      "metadata": {
        "colab": {
          "base_uri": "https://localhost:8080/"
        },
        "outputId": "b0ed9b70-f6fd-4c1a-cc70-2de16bf6a847",
        "id": "1oi1v2B1DWe2"
      },
      "execution_count": null,
      "outputs": [
        {
          "output_type": "stream",
          "name": "stdout",
          "text": [
            "Loading audio file...\n",
            "Adjusting for ambient noise...\n",
            "Listening to the audio file...\n",
            "Converting speech to text...\n",
            "\n",
            "Transcription:\n",
            "you are just talking nonsense\n",
            "\n",
            "Speech successfully converted to text!\n"
          ]
        }
      ]
    },
    {
      "cell_type": "markdown",
      "source": [
        "Inference:\n",
        "\n",
        "This speech-to-text conversion program utilizes the SpeechRecognition library to transcribe spoken language from a .wav audio file into written text. The implementation follows a structured approach, starting with the initialization of the speech recognizer, followed by the loading and processing of the audio file.\n",
        "\n",
        "Key features of the program include:\n",
        "\n",
        "Audio Processing: The program effectively captures audio data and adjusts for ambient noise to improve recognition accuracy.\n",
        "\n",
        "Speech Recognition: Leveraging the Google Web Speech API, it converts audio input into text, allowing for seamless transcription of spoken commands or dialogue.\n",
        "\n",
        "Error Handling: Robust exception handling is incorporated to manage scenarios where speech is unclear, connectivity issues arise, or unexpected errors occur. This ensures a user-friendly experience by providing informative feedback.\n",
        "\n",
        "User Interaction: The program provides real-time feedback to users during the recognition process, enhancing usability and engagement."
      ],
      "metadata": {
        "id": "8FsLBgiOFgRe"
      }
    }
  ]
}